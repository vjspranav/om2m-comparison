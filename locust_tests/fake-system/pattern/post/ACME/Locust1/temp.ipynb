{
 "cells": [
  {
   "cell_type": "code",
   "execution_count": 2,
   "metadata": {},
   "outputs": [],
   "source": [
    "import requests\n",
    "import json"
   ]
  },
  {
   "cell_type": "code",
   "execution_count": 13,
   "metadata": {},
   "outputs": [],
   "source": [
    "with open('nodes.json') as f:\n",
    "    nodes_data = json.load(f)\n",
    "\n",
    "HEADER = {\n",
    "    'Content-Type': 'application/json',\n",
    "    'Accept': 'application/json',\n",
    "    'X-M2M-Origin': 'Sacp-admin',\n",
    "    'X-M2M-RI': 'a2tzavpitws',\n",
    "    'X-M2M-RVI': '3'\n",
    "}\n",
    "\n",
    "new_nodes  = {}\n",
    "\n",
    "for node_type in nodes_data:\n",
    "    new_nodes[node_type] = {}\n",
    "    for node in nodes_data[node_type]:\n",
    "        url = f\"http://10.3.1.117:8002/~/in-cse/in-name/AE-{node_type}/{node}/Data\"\n",
    "        resp = requests.get(url, headers=HEADER)\n",
    "        new_nodes[node_type][node] = resp.json()['m2m:cnt']['ri']"
   ]
  },
  {
   "cell_type": "code",
   "execution_count": 17,
   "metadata": {},
   "outputs": [],
   "source": [
    "with open('new_nodes.json', 'w') as f:\n",
    "    json.dump(new_nodes, f, indent=4)"
   ]
  },
  {
   "cell_type": "code",
   "execution_count": null,
   "metadata": {},
   "outputs": [],
   "source": []
  }
 ],
 "metadata": {
  "kernelspec": {
   "display_name": "Python 3",
   "language": "python",
   "name": "python3"
  },
  "language_info": {
   "codemirror_mode": {
    "name": "ipython",
    "version": 3
   },
   "file_extension": ".py",
   "mimetype": "text/x-python",
   "name": "python",
   "nbconvert_exporter": "python",
   "pygments_lexer": "ipython3",
   "version": "3.10.12"
  },
  "orig_nbformat": 4
 },
 "nbformat": 4,
 "nbformat_minor": 2
}
