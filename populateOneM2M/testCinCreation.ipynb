{
 "cells": [
  {
   "cell_type": "code",
   "execution_count": 2,
   "metadata": {},
   "outputs": [],
   "source": [
    "import json\n",
    "import requests\n",
    "\n",
    "from OneM2M.OM2M import OM2M\n",
    "from OneM2M.Mobius import Mobius\n",
    "from OneM2M.ACME import ACME"
   ]
  },
  {
   "cell_type": "code",
   "execution_count": 5,
   "metadata": {},
   "outputs": [],
   "source": [
    "with open('nodesdata.json', 'r') as f:\n",
    "    nodes = json.load(f)"
   ]
  },
  {
   "cell_type": "code",
   "execution_count": 12,
   "metadata": {},
   "outputs": [],
   "source": [
    "parent = 'AE-SR'\n",
    "node = 'SR-AC-KH02-06'"
   ]
  },
  {
   "cell_type": "code",
   "execution_count": 4,
   "metadata": {},
   "outputs": [
    {
     "data": {
      "text/plain": [
       "(201,\n",
       " '{\\n   \"m2m:cin\" : {\\n      \"rn\" : \"cin_268727582\",\\n      \"ty\" : 4,\\n      \"ri\" : \"/in-cse/cin-268727582\",\\n      \"pi\" : \"/in-cse/cnt-854231145\",\\n      \"ct\" : \"20230908T125055\",\\n      \"lt\" : \"20230908T125055\",\\n      \"lbl\" : [ \"AE-AQ\", \"V4.0.0\", \"AQ-KN00-00\", \"AQ-V4.0.0\" ],\\n      \"st\" : 0,\\n      \"cnf\" : \"text\",\\n      \"cs\" : 84,\\n      \"con\" : \"[1694129242, 6.80, 17.74, 15.30, 64.11, 27.52, 25.84, 69.65, 77.48, 64.11, 1, 64, 0]\"\\n   }\\n}')"
      ]
     },
     "execution_count": 4,
     "metadata": {},
     "output_type": "execute_result"
    }
   ],
   "source": [
    "om2m = OM2M('admin', 'admin', 'http://10.3.1.117:8200/~/in-cse/in-name')\n",
    "om2m.create_cin(parent, node, nodes[node]['con'], nodes[node]['lbl'], nodes[node]['cnf'])"
   ]
  },
  {
   "cell_type": "code",
   "execution_count": 5,
   "metadata": {},
   "outputs": [
    {
     "data": {
      "text/plain": [
       "(201,\n",
       " '{\"m2m:cin\":{\"rn\":\"4-20230908125055908\",\"ty\":4,\"pi\":\"3-20230907130920199654\",\"ri\":\"4-20230908125055909750\",\"ct\":\"20230908T125055\",\"lt\":\"20230908T125055\",\"st\":1,\"et\":\"20250908T125055\",\"cs\":70,\"cnf\":\"text\",\"con\":[1694129242,6.8,17.74,15.3,64.11,27.52,25.84,69.65,77.48,64.11,1,64,0],\"lbl\":[\"AE-AQ\",\"V4.0.0\",\"AQ-KN00-00\",\"AQ-V4.0.0\"],\"cr\":\"SOriginAQ-KN00-00\"}}')"
      ]
     },
     "execution_count": 5,
     "metadata": {},
     "output_type": "execute_result"
    }
   ],
   "source": [
    "mobius = Mobius('12345', 'http://10.3.1.117:8001/Mobius')\n",
    "mobius.create_cin(parent, node, nodes[node]['con'], nodes[node]['lbl'], nodes[node]['cnf'], 'SOrigin' + node)"
   ]
  },
  {
   "cell_type": "code",
   "execution_count": 13,
   "metadata": {},
   "outputs": [
    {
     "data": {
      "text/plain": [
       "(400,\n",
       " b'{\"m2m:dbg\": \"validation of cnf attribute failed: text/plain:0/plain:0\"}')"
      ]
     },
     "execution_count": 13,
     "metadata": {},
     "output_type": "execute_result"
    }
   ],
   "source": [
    "acme = ACME('http://10.3.1.117:8002', 'ri.json', '3')\n",
    "acme.create_cin(parent, node, nodes[node]['con'], nodes[node]['lbl'], nodes[node]['cnf'] + '/plain:0', '123')"
   ]
  },
  {
   "cell_type": "code",
   "execution_count": 4,
   "metadata": {},
   "outputs": [],
   "source": [
    "with open('nodesdata.json') as f:\n",
    "    nodesdata = json.load(f)\n",
    "\n",
    "for node in nodesdata:\n",
    "# check which does not have lbl\n",
    "    if 'lbl' not in nodesdata[node]:\n",
    "        print(node)"
   ]
  },
  {
   "cell_type": "code",
   "execution_count": 6,
   "metadata": {},
   "outputs": [],
   "source": [
    "with open('nodes.json', 'r') as f:\n",
    "    parents = json.load(f)\n",
    "\n",
    "acme = ACME('http://10.3.1.117:8002', 'ri.json', '3')\n",
    "\n",
    "for parent in parents:\n",
    "    for node in parents[parent]:\n",
    "        acme.create_cin(parent, node, nodes[node]['con'], nodes[node]['lbl'], nodes[node]['cnf'] + '/plain:0', '123')\n",
    "        "
   ]
  },
  {
   "cell_type": "code",
   "execution_count": 7,
   "metadata": {},
   "outputs": [],
   "source": [
    "mobius = Mobius('12345', 'http://10.3.1.117:8001/Mobius')\n",
    "\n",
    "for parent in parents:\n",
    "    for node in parents[parent]:\n",
    "        mobius.create_cin(parent, node, nodes[node]['con'], nodes[node]['lbl'], nodes[node]['cnf'], 'SOrigin' + node)"
   ]
  },
  {
   "cell_type": "code",
   "execution_count": null,
   "metadata": {},
   "outputs": [],
   "source": []
  }
 ],
 "metadata": {
  "kernelspec": {
   "display_name": "Python 3",
   "language": "python",
   "name": "python3"
  },
  "language_info": {
   "codemirror_mode": {
    "name": "ipython",
    "version": 3
   },
   "file_extension": ".py",
   "mimetype": "text/x-python",
   "name": "python",
   "nbconvert_exporter": "python",
   "pygments_lexer": "ipython3",
   "version": "3.8.8"
  },
  "orig_nbformat": 4
 },
 "nbformat": 4,
 "nbformat_minor": 2
}
